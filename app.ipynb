{
 "cells": [
  {
   "cell_type": "markdown",
   "metadata": {},
   "source": [
    "# Classification สำหรับจัดกลุ่ม Type1 ของ Pokemon\n",
    "### โดย นายอิสรา นรานิรัติศัย รหัสนักศึกษา 57011546\n",
    "### วิชา Introduction to Data Analytics Course\n",
    "### เทอม 2 ปีการศึกษา 2560\n",
    "### ภาควิชา วิศวกรรมคอมพิวเตอร์ สถาบันเทคโนโลยีพระจอมเกล้าเจ้าคุณทหารลาดกระบัง\n",
    "วันที่ส่ง 25/3/2018\n"
   ]
  },
  {
   "cell_type": "markdown",
   "metadata": {},
   "source": [
    "## Getting Started\n",
    "### Import Library"
   ]
  },
  {
   "cell_type": "code",
   "execution_count": 32,
   "metadata": {
    "collapsed": true
   },
   "outputs": [],
   "source": [
    "import pandas as pd\n",
    "import numpy as np\n",
    "import matplotlib\n",
    "import matplotlib.pyplot as plt\n",
    "from sklearn import preprocessing\n",
    "from sklearn.metrics import accuracy_score\n",
    "import seaborn as sns\n",
    "%matplotlib inline"
   ]
  },
  {
   "cell_type": "markdown",
   "metadata": {},
   "source": [
    "### Import Data"
   ]
  },
  {
   "cell_type": "code",
   "execution_count": 33,
   "metadata": {
    "collapsed": true
   },
   "outputs": [],
   "source": [
    "pokemonsData = pd.read_csv('resources/pokemon.csv')"
   ]
  },
  {
   "cell_type": "markdown",
   "metadata": {},
   "source": [
    "### Show All Columns"
   ]
  },
  {
   "cell_type": "code",
   "execution_count": 34,
   "metadata": {
    "collapsed": false
   },
   "outputs": [
    {
     "data": {
      "text/plain": [
       "Index(['abilities', 'against_bug', 'against_dark', 'against_dragon',\n",
       "       'against_electric', 'against_fairy', 'against_fight', 'against_fire',\n",
       "       'against_flying', 'against_ghost', 'against_grass', 'against_ground',\n",
       "       'against_ice', 'against_normal', 'against_poison', 'against_psychic',\n",
       "       'against_rock', 'against_steel', 'against_water', 'attack',\n",
       "       'base_egg_steps', 'base_happiness', 'base_total', 'capture_rate',\n",
       "       'classfication', 'defense', 'experience_growth', 'height_m', 'hp',\n",
       "       'japanese_name', 'name', 'percentage_male', 'pokedex_number',\n",
       "       'sp_attack', 'sp_defense', 'speed', 'type1', 'type2', 'weight_kg',\n",
       "       'generation', 'is_legendary'],\n",
       "      dtype='object')"
      ]
     },
     "execution_count": 34,
     "metadata": {},
     "output_type": "execute_result"
    }
   ],
   "source": [
    "pokemonsData.columns"
   ]
  },
  {
   "cell_type": "markdown",
   "metadata": {},
   "source": [
    "### Checkout Data"
   ]
  },
  {
   "cell_type": "code",
   "execution_count": 35,
   "metadata": {
    "collapsed": false
   },
   "outputs": [
    {
     "data": {
      "text/html": [
       "<div>\n",
       "<table border=\"1\" class=\"dataframe\">\n",
       "  <thead>\n",
       "    <tr style=\"text-align: right;\">\n",
       "      <th></th>\n",
       "      <th>abilities</th>\n",
       "      <th>against_bug</th>\n",
       "      <th>against_dark</th>\n",
       "      <th>against_dragon</th>\n",
       "      <th>against_electric</th>\n",
       "      <th>against_fairy</th>\n",
       "      <th>against_fight</th>\n",
       "      <th>against_fire</th>\n",
       "      <th>against_flying</th>\n",
       "      <th>against_ghost</th>\n",
       "      <th>...</th>\n",
       "      <th>percentage_male</th>\n",
       "      <th>pokedex_number</th>\n",
       "      <th>sp_attack</th>\n",
       "      <th>sp_defense</th>\n",
       "      <th>speed</th>\n",
       "      <th>type1</th>\n",
       "      <th>type2</th>\n",
       "      <th>weight_kg</th>\n",
       "      <th>generation</th>\n",
       "      <th>is_legendary</th>\n",
       "    </tr>\n",
       "  </thead>\n",
       "  <tbody>\n",
       "    <tr>\n",
       "      <th>0</th>\n",
       "      <td>['Overgrow', 'Chlorophyll']</td>\n",
       "      <td>1.0</td>\n",
       "      <td>1.0</td>\n",
       "      <td>1.0</td>\n",
       "      <td>0.5</td>\n",
       "      <td>0.5</td>\n",
       "      <td>0.5</td>\n",
       "      <td>2.0</td>\n",
       "      <td>2.0</td>\n",
       "      <td>1.0</td>\n",
       "      <td>...</td>\n",
       "      <td>88.1</td>\n",
       "      <td>1</td>\n",
       "      <td>65</td>\n",
       "      <td>65</td>\n",
       "      <td>45</td>\n",
       "      <td>grass</td>\n",
       "      <td>poison</td>\n",
       "      <td>6.9</td>\n",
       "      <td>1</td>\n",
       "      <td>0</td>\n",
       "    </tr>\n",
       "    <tr>\n",
       "      <th>1</th>\n",
       "      <td>['Overgrow', 'Chlorophyll']</td>\n",
       "      <td>1.0</td>\n",
       "      <td>1.0</td>\n",
       "      <td>1.0</td>\n",
       "      <td>0.5</td>\n",
       "      <td>0.5</td>\n",
       "      <td>0.5</td>\n",
       "      <td>2.0</td>\n",
       "      <td>2.0</td>\n",
       "      <td>1.0</td>\n",
       "      <td>...</td>\n",
       "      <td>88.1</td>\n",
       "      <td>2</td>\n",
       "      <td>80</td>\n",
       "      <td>80</td>\n",
       "      <td>60</td>\n",
       "      <td>grass</td>\n",
       "      <td>poison</td>\n",
       "      <td>13.0</td>\n",
       "      <td>1</td>\n",
       "      <td>0</td>\n",
       "    </tr>\n",
       "    <tr>\n",
       "      <th>2</th>\n",
       "      <td>['Overgrow', 'Chlorophyll']</td>\n",
       "      <td>1.0</td>\n",
       "      <td>1.0</td>\n",
       "      <td>1.0</td>\n",
       "      <td>0.5</td>\n",
       "      <td>0.5</td>\n",
       "      <td>0.5</td>\n",
       "      <td>2.0</td>\n",
       "      <td>2.0</td>\n",
       "      <td>1.0</td>\n",
       "      <td>...</td>\n",
       "      <td>88.1</td>\n",
       "      <td>3</td>\n",
       "      <td>122</td>\n",
       "      <td>120</td>\n",
       "      <td>80</td>\n",
       "      <td>grass</td>\n",
       "      <td>poison</td>\n",
       "      <td>100.0</td>\n",
       "      <td>1</td>\n",
       "      <td>0</td>\n",
       "    </tr>\n",
       "    <tr>\n",
       "      <th>3</th>\n",
       "      <td>['Blaze', 'Solar Power']</td>\n",
       "      <td>0.5</td>\n",
       "      <td>1.0</td>\n",
       "      <td>1.0</td>\n",
       "      <td>1.0</td>\n",
       "      <td>0.5</td>\n",
       "      <td>1.0</td>\n",
       "      <td>0.5</td>\n",
       "      <td>1.0</td>\n",
       "      <td>1.0</td>\n",
       "      <td>...</td>\n",
       "      <td>88.1</td>\n",
       "      <td>4</td>\n",
       "      <td>60</td>\n",
       "      <td>50</td>\n",
       "      <td>65</td>\n",
       "      <td>fire</td>\n",
       "      <td>NaN</td>\n",
       "      <td>8.5</td>\n",
       "      <td>1</td>\n",
       "      <td>0</td>\n",
       "    </tr>\n",
       "    <tr>\n",
       "      <th>4</th>\n",
       "      <td>['Blaze', 'Solar Power']</td>\n",
       "      <td>0.5</td>\n",
       "      <td>1.0</td>\n",
       "      <td>1.0</td>\n",
       "      <td>1.0</td>\n",
       "      <td>0.5</td>\n",
       "      <td>1.0</td>\n",
       "      <td>0.5</td>\n",
       "      <td>1.0</td>\n",
       "      <td>1.0</td>\n",
       "      <td>...</td>\n",
       "      <td>88.1</td>\n",
       "      <td>5</td>\n",
       "      <td>80</td>\n",
       "      <td>65</td>\n",
       "      <td>80</td>\n",
       "      <td>fire</td>\n",
       "      <td>NaN</td>\n",
       "      <td>19.0</td>\n",
       "      <td>1</td>\n",
       "      <td>0</td>\n",
       "    </tr>\n",
       "  </tbody>\n",
       "</table>\n",
       "<p>5 rows × 41 columns</p>\n",
       "</div>"
      ],
      "text/plain": [
       "                     abilities  against_bug  against_dark  against_dragon  \\\n",
       "0  ['Overgrow', 'Chlorophyll']          1.0           1.0             1.0   \n",
       "1  ['Overgrow', 'Chlorophyll']          1.0           1.0             1.0   \n",
       "2  ['Overgrow', 'Chlorophyll']          1.0           1.0             1.0   \n",
       "3     ['Blaze', 'Solar Power']          0.5           1.0             1.0   \n",
       "4     ['Blaze', 'Solar Power']          0.5           1.0             1.0   \n",
       "\n",
       "   against_electric  against_fairy  against_fight  against_fire  \\\n",
       "0               0.5            0.5            0.5           2.0   \n",
       "1               0.5            0.5            0.5           2.0   \n",
       "2               0.5            0.5            0.5           2.0   \n",
       "3               1.0            0.5            1.0           0.5   \n",
       "4               1.0            0.5            1.0           0.5   \n",
       "\n",
       "   against_flying  against_ghost      ...       percentage_male  \\\n",
       "0             2.0            1.0      ...                  88.1   \n",
       "1             2.0            1.0      ...                  88.1   \n",
       "2             2.0            1.0      ...                  88.1   \n",
       "3             1.0            1.0      ...                  88.1   \n",
       "4             1.0            1.0      ...                  88.1   \n",
       "\n",
       "   pokedex_number  sp_attack  sp_defense  speed  type1   type2  weight_kg  \\\n",
       "0               1         65          65     45  grass  poison        6.9   \n",
       "1               2         80          80     60  grass  poison       13.0   \n",
       "2               3        122         120     80  grass  poison      100.0   \n",
       "3               4         60          50     65   fire     NaN        8.5   \n",
       "4               5         80          65     80   fire     NaN       19.0   \n",
       "\n",
       "   generation  is_legendary  \n",
       "0           1             0  \n",
       "1           1             0  \n",
       "2           1             0  \n",
       "3           1             0  \n",
       "4           1             0  \n",
       "\n",
       "[5 rows x 41 columns]"
      ]
     },
     "execution_count": 35,
     "metadata": {},
     "output_type": "execute_result"
    }
   ],
   "source": [
    "pokemonsData.head()"
   ]
  },
  {
   "cell_type": "markdown",
   "metadata": {},
   "source": [
    "### Display possible class/label\n",
    "using [sklean's LabelEncoder](http://scikit-learn.org/stable/modules/generated/sklearn.preprocessing.LabelEncoder.html)"
   ]
  },
  {
   "cell_type": "code",
   "execution_count": 36,
   "metadata": {
    "collapsed": false
   },
   "outputs": [
    {
     "data": {
      "text/plain": [
       "array(['bug', 'dark', 'dragon', 'electric', 'fairy', 'fighting', 'fire',\n",
       "       'flying', 'ghost', 'grass', 'ground', 'ice', 'normal', 'poison',\n",
       "       'psychic', 'rock', 'steel', 'water'], dtype=object)"
      ]
     },
     "execution_count": 36,
     "metadata": {},
     "output_type": "execute_result"
    }
   ],
   "source": [
    "le = preprocessing.LabelEncoder()\n",
    "le.fit(pokemonsData['type1'])\n",
    "le.classes_"
   ]
  },
  {
   "cell_type": "markdown",
   "metadata": {},
   "source": [
    "### Attributes"
   ]
  },
  {
   "cell_type": "markdown",
   "metadata": {},
   "source": [
    "- 'against_bug'\n",
    "- 'against_dark'\n",
    "- 'against_dragon'\n",
    "- 'against_electric'\n",
    "- 'against_fairy'\n",
    "- 'against_fight'\n",
    "- 'against_fire'\n",
    "- 'against_flying'\n",
    "- 'against_ghost'\n",
    "- 'against_grass'\n",
    "- 'against_ground'\n",
    "- 'against_ice'\n",
    "- 'against_normal'\n",
    "- 'against_poison'\n",
    "- 'against_psychic'\n",
    "- 'against_rock'\n",
    "- 'against_steel'\n",
    "- 'against_water'"
   ]
  },
  {
   "cell_type": "markdown",
   "metadata": {},
   "source": [
    "### Handle missing values\n",
    "the attributes that we're using don't have any missing values"
   ]
  },
  {
   "cell_type": "markdown",
   "metadata": {},
   "source": [
    "## 10-Fold Cross Validation"
   ]
  },
  {
   "cell_type": "code",
   "execution_count": 37,
   "metadata": {
    "collapsed": false
   },
   "outputs": [
    {
     "data": {
      "text/plain": [
       "10"
      ]
     },
     "execution_count": 37,
     "metadata": {},
     "output_type": "execute_result"
    }
   ],
   "source": [
    "from sklearn.model_selection import KFold\n",
    "\n",
    "## Using Attr\n",
    "X = pokemonsData[['against_bug', 'against_dark', 'against_dragon', 'against_electric', 'against_fairy', 'against_fight', 'against_fire', 'against_flying', 'against_ghost', 'against_grass', 'against_ground', 'against_ice', 'against_normal', 'against_poison', 'against_psychic', 'against_rock', 'against_steel', 'against_water']]\n",
    "y = le.transform(pokemonsData['type1'])\n",
    "\n",
    "kf = KFold(n_splits=10, random_state=101)\n",
    "kf.get_n_splits(X)"
   ]
  },
  {
   "cell_type": "markdown",
   "metadata": {},
   "source": [
    "### 1. K-Neighbors Classifier"
   ]
  },
  {
   "cell_type": "code",
   "execution_count": 38,
   "metadata": {
    "collapsed": false
   },
   "outputs": [
    {
     "name": "stdout",
     "output_type": "stream",
     "text": [
      "Step 1: Accuracy = 0.8765432098765432\n",
      "Step 2: Accuracy = 0.8625\n",
      "Step 3: Accuracy = 0.825\n",
      "Step 4: Accuracy = 0.8125\n",
      "Step 5: Accuracy = 0.85\n",
      "Step 6: Accuracy = 0.7625\n",
      "Step 7: Accuracy = 0.8875\n",
      "Step 8: Accuracy = 0.7625\n",
      "Step 9: Accuracy = 0.7625\n",
      "Step 10: Accuracy = 0.75\n",
      "0.8151543209876543\n"
     ]
    }
   ],
   "source": [
    "from sklearn.neighbors import KNeighborsClassifier\n",
    "\n",
    "count = 0\n",
    "\n",
    "accuracy_list = []\n",
    "for train_index, test_index in kf.split(X):\n",
    "    X_train, X_test = X.iloc[train_index], X.iloc[test_index]\n",
    "    y_train, y_test = y[train_index], y[test_index]\n",
    "    \n",
    "    clf = KNeighborsClassifier()\n",
    "    clf.fit(X_train,y_train)\n",
    "    predictions = clf.predict(X_test)\n",
    "    accuracy = accuracy_score(y_test,predictions)\n",
    "    count += 1\n",
    "    accuracy_list.append(accuracy)\n",
    "    print(\"Step {}: Accuracy = {}\".format(count, accuracy))\n",
    "print(np.mean(accuracy_list))"
   ]
  },
  {
   "cell_type": "markdown",
   "metadata": {},
   "source": [
    "### 2. MLPClassifier"
   ]
  },
  {
   "cell_type": "code",
   "execution_count": 52,
   "metadata": {
    "collapsed": false
   },
   "outputs": [
    {
     "name": "stdout",
     "output_type": "stream",
     "text": [
      "Step 1: Accuracy = 0.9753086419753086\n",
      "Step 2: Accuracy = 0.8625\n",
      "Step 3: Accuracy = 0.925\n",
      "Step 4: Accuracy = 0.8625\n",
      "Step 5: Accuracy = 0.7875\n",
      "Step 6: Accuracy = 0.775\n",
      "Step 7: Accuracy = 0.8875\n",
      "Step 8: Accuracy = 0.8375\n",
      "Step 9: Accuracy = 0.825\n",
      "Step 10: Accuracy = 0.8\n",
      "0.8537808641975309\n"
     ]
    }
   ],
   "source": [
    "from sklearn.svm import SVC\n",
    "from sklearn.neural_network import MLPClassifier\n",
    "\n",
    "count = 0\n",
    "\n",
    "accuracy_list = []\n",
    "for train_index, test_index in kf.split(X):\n",
    "    X_train, X_test = X.iloc[train_index], X.iloc[test_index]\n",
    "    y_train, y_test = y[train_index], y[test_index]\n",
    "    \n",
    "    clf = MLPClassifier(max_iter=1000)\n",
    "    clf.fit(X_train,y_train)\n",
    "    predictions = clf.predict(X_test)\n",
    "    accuracy = accuracy_score(y_test,predictions)\n",
    "    count += 1\n",
    "    accuracy_list.append(accuracy)\n",
    "    print(\"Step {}: Accuracy = {}\".format(count, accuracy))\n",
    "print(np.mean(accuracy_list))"
   ]
  },
  {
   "cell_type": "markdown",
   "metadata": {
    "collapsed": true
   },
   "source": [
    "### MLP Classifier's Detail"
   ]
  },
  {
   "cell_type": "code",
   "execution_count": 53,
   "metadata": {
    "collapsed": false
   },
   "outputs": [
    {
     "name": "stdout",
     "output_type": "stream",
     "text": [
      "The number of iterations the solver has ran : 332\n",
      "The current loss : 0.10048920987470683\n",
      "Number of layers : 3\n",
      "Accuracy: 0.8557213930348259\n"
     ]
    }
   ],
   "source": [
    "from sklearn.model_selection import train_test_split\n",
    "from sklearn.metrics import accuracy_score\n",
    "X_train, X_test, y_train, y_test = train_test_split(X, y)\n",
    "clf = MLPClassifier(max_iter=1000)\n",
    "clf.fit(X_train,y_train)\n",
    "predictions = clf.predict(X_test)\n",
    "accuracy = accuracy_score(y_test, predictions)\n",
    "# print(\"Coef: \" + str(clf.coefs_))\n",
    "# print(\"Intercept: \" + str(clf.intercepts_))\n",
    "print(\"The number of iterations the solver has ran : \" + str(clf.n_iter_))\n",
    "print(\"The current loss : \" + str(clf.loss_))\n",
    "print(\"Number of layers : \" + str(clf.n_layers_))\n",
    "print(\"Accuracy: \" + str(accuracy))"
   ]
  },
  {
   "cell_type": "markdown",
   "metadata": {
    "collapsed": true
   },
   "source": [
    "### Accuracy in each class (Using MLP Classifier)"
   ]
  },
  {
   "cell_type": "code",
   "execution_count": 57,
   "metadata": {
    "collapsed": false
   },
   "outputs": [
    {
     "name": "stdout",
     "output_type": "stream",
     "text": [
      "             precision    recall  f1-score   support\n",
      "\n",
      "        bug       0.96      0.92      0.94        24\n",
      "       dark       0.88      0.88      0.88         8\n",
      "     dragon       0.73      0.73      0.73        11\n",
      "   electric       1.00      1.00      1.00         6\n",
      "      fairy       1.00      1.00      1.00         4\n",
      "   fighting       0.64      1.00      0.78         7\n",
      "       fire       0.77      1.00      0.87        10\n",
      "     flying       0.00      0.00      0.00         1\n",
      "      ghost       0.56      0.62      0.59         8\n",
      "      grass       1.00      0.90      0.95        21\n",
      "     ground       0.75      0.50      0.60         6\n",
      "        ice       0.67      0.80      0.73         5\n",
      "     normal       1.00      1.00      1.00        22\n",
      "     poison       1.00      0.50      0.67         6\n",
      "    psychic       0.87      0.93      0.90        14\n",
      "       rock       0.73      0.92      0.81        12\n",
      "      steel       0.67      0.25      0.36         8\n",
      "      water       0.90      0.93      0.91        28\n",
      "\n",
      "avg / total       0.86      0.86      0.85       201\n",
      "\n"
     ]
    },
    {
     "name": "stderr",
     "output_type": "stream",
     "text": [
      "C:\\Users\\isara\\Anaconda3\\lib\\site-packages\\sklearn\\metrics\\classification.py:1113: UndefinedMetricWarning: Precision and F-score are ill-defined and being set to 0.0 in labels with no predicted samples.\n",
      "  'precision', 'predicted', average, warn_for)\n"
     ]
    }
   ],
   "source": [
    "from sklearn.metrics import classification_report\n",
    "# print(le.classes_)\n",
    "# y = le.transform(pokemonsData['type1'])\n",
    "print(classification_report(y_test, predictions, target_names=le.classes_))"
   ]
  },
  {
   "cell_type": "markdown",
   "metadata": {},
   "source": [
    "### Confusion Matrix (Using MLP Classifier)"
   ]
  },
  {
   "cell_type": "code",
   "execution_count": 75,
   "metadata": {
    "collapsed": false
   },
   "outputs": [
    {
     "name": "stdout",
     "output_type": "stream",
     "text": [
      "<class 'numpy.ndarray'>\n"
     ]
    },
    {
     "data": {
      "text/plain": [
       "<matplotlib.axes._subplots.AxesSubplot at 0x209a4aad940>"
      ]
     },
     "execution_count": 75,
     "metadata": {},
     "output_type": "execute_result"
    },
    {
     "data": {
      "image/png": "[encoded data removed]",
      "text/plain": [
       "<matplotlib.figure.Figure at 0x209a4a30550>"
      ]
     },
     "metadata": {},
     "output_type": "display_data"
    }
   ],
   "source": [
    "from sklearn.metrics import confusion_matrix\n",
    "cm = confusion_matrix(y_test, predictions)\n",
    "print(type(cm))\n",
    "lk = preprocessing.LabelEncoder()\n",
    "lk.fit(y_test)\n",
    "df_cm = pd.DataFrame(cm, index = [le.classes_[i] for i in lk.classes_ ],\n",
    "                     columns = [le.classes_[i] for i in lk.classes_ ])\n",
    "sns.heatmap(df_cm, annot=True)"
   ]
  }
 ],
 "metadata": {
  "kernelspec": {
   "display_name": "Python 3",
   "language": "python",
   "name": "python3"
  },
  "language_info": {
   "codemirror_mode": {
    "name": "ipython",
    "version": 3
   },
   "file_extension": ".py",
   "mimetype": "text/x-python",
   "name": "python",
   "nbconvert_exporter": "python",
   "pygments_lexer": "ipython3",
   "version": "3.6.0"
  }
 },
 "nbformat": 4,
 "nbformat_minor": 2
}
